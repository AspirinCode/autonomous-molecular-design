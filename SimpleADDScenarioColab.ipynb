{
  "nbformat": 4,
  "nbformat_minor": 0,
  "metadata": {
    "colab": {
      "name": "SimpleADDScenarioColab.ipynb",
      "version": "0.3.2",
      "provenance": [],
      "collapsed_sections": []
    },
    "language_info": {
      "codemirror_mode": {
        "name": "ipython",
        "version": 3
      },
      "file_extension": ".py",
      "mimetype": "text/x-python",
      "name": "python",
      "nbconvert_exporter": "python",
      "pygments_lexer": "ipython3",
      "version": "3.6.8"
    },
    "kernelspec": {
      "name": "python3",
      "display_name": "Python 3"
    },
    "accelerator": "GPU"
  },
  "cells": [
    {
      "cell_type": "code",
      "metadata": {
        "id": "6X-nVUTt1wl0",
        "colab_type": "code",
        "colab": {}
      },
      "source": [
        "###initialize imports and dataset\n",
        "!wget -c https://repo.continuum.io/miniconda/Miniconda3-latest-Linux-x86_64.sh\n",
        "!chmod +x Miniconda3-latest-Linux-x86_64.sh\n",
        "!bash ./Miniconda3-latest-Linux-x86_64.sh -b -f -p /usr/local\n",
        "!conda install -q -y -c conda-forge rdkit\n",
        "#!conda install pytorch torchvision cudatoolkit=9.0 -c pytorch -y\n",
        "#!pip3 install pyro-ppl\n",
        "\n",
        "!conda install -y --prefix /usr/local -c conda-forge rdkit joblib simdna\n",
        "!git clone https://github.com/deepchem/deepchem.git      # Clone deepchem source code from GitHub\n",
        "!cd deepchem && python setup.py install\n",
        "!ls -la /usr/local/lib/python3.7/site-packages/deepchem\n",
        "\n",
        "#!pip install -q tf-nightly-2.0-preview\n",
        "#%load_ext tensorboard\n",
        "\n",
        "import sys\n",
        "sys.path.append('/usr/local/lib/python3.7/site-packages/')\n",
        "\n",
        "import math\n",
        "import numpy as np\n",
        "import pandas as pd\n",
        "import deepchem as dc\n",
        "from deepchem.utils.save import load_from_disk\n",
        "from deepchem.data import data_loader\n",
        "import random\n",
        "random.seed(0)\n",
        "import pickle\n",
        "import matplotlib.pyplot as plt\n",
        "#import tensorflow as tf\n",
        "#import datetime"
      ],
      "execution_count": 0,
      "outputs": []
    },
    {
      "cell_type": "code",
      "metadata": {
        "id": "9kAWBKOM4LH-",
        "colab_type": "code",
        "colab": {}
      },
      "source": [
        "###shouldn't need to do this because the ground truth is in drive now\n",
        "from google.colab import files\n",
        "uploaded = files.upload()"
      ],
      "execution_count": 0,
      "outputs": []
    },
    {
      "cell_type": "code",
      "metadata": {
        "id": "U10M3eG2uFGC",
        "colab_type": "code",
        "colab": {}
      },
      "source": [
        "from google.colab import drive\n",
        "drive.mount(\"drive\")"
      ],
      "execution_count": 0,
      "outputs": []
    },
    {
      "cell_type": "code",
      "metadata": {
        "id": "nDGRjXhtb7fK",
        "colab_type": "code",
        "colab": {}
      },
      "source": [
        "# Clear any logs from previous runs\n",
        "#!rm -rf ./logs/\n",
        "\n",
        "#log_dir=\"./logs/fit/\" + datetime.datetime.now().strftime(\"%Y%m%d-%H%M%S\")\n",
        "#tensorboard_callback = tf.keras.callbacks.TensorBoard(log_dir=log_dir, histogram_freq=1)"
      ],
      "execution_count": 0,
      "outputs": []
    },
    {
      "cell_type": "code",
      "metadata": {
        "id": "k4tgZh6x39li",
        "colab_type": "code",
        "outputId": "b91bf9d9-942d-4534-d94d-6d05c26139f3",
        "colab": {
          "base_uri": "https://localhost:8080/",
          "height": 69
        }
      },
      "source": [
        "dataset_file = \"drive/My Drive/ADD19 Datasets/enamineSubset10KGroundTruth.csv\"\n",
        "\n",
        "ground_truth_dataset = pd.read_csv(dataset_file)\n",
        "\n",
        "low_bace_dataset = ground_truth_dataset.sort_values(by=\"bace\")[:2500] #take 2.5K worst binder potential starters,shouldn't need copy\n",
        "\n",
        "top_5_percent_index = len(ground_truth_dataset) // 20\n",
        "top_5_percent_bace_cutoff = ground_truth_dataset.sort_values(by=\"bace\", ascending=False)[\"bace\"].tolist()[top_5_percent_index]\n",
        "\n",
        "print(\"Cutoff bace score for 95th percentile:\", top_5_percent_bace_cutoff)\n",
        "print(\"Columns of dataset: %s\" % str(ground_truth_dataset.columns.values))\n",
        "print(\"Number of examples in dataset: %s\" % str(ground_truth_dataset.shape[0]))"
      ],
      "execution_count": 3,
      "outputs": [
        {
          "output_type": "stream",
          "text": [
            "Cutoff bace score for 95th percentile: 4.870083\n",
            "Columns of dataset: ['Index' 'SMILES' 'bace' 'esol' 'logD']\n",
            "Number of examples in dataset: 10000\n"
          ],
          "name": "stdout"
        }
      ]
    },
    {
      "cell_type": "code",
      "metadata": {
        "id": "PSj-0qqlcy1j",
        "colab_type": "code",
        "colab": {}
      },
      "source": [
        "###featurized ground truth for scoring\n",
        "featurizer = dc.feat.ConvMolFeaturizer()\n",
        "loader = dc.data.CSVLoader(tasks=[\"bace\", \"esol\", \"logD\"], smiles_field=\"SMILES\", featurizer=featurizer)\n",
        "dataset_feat = loader.featurize(dataset_file) #featurize the molecules from the ground truth dataset\n",
        "transformer = dc.trans.NormalizationTransformer(transform_y=True, dataset=dataset_feat)\n",
        "ground_truth_for_scoring = transformer.transform(dataset_feat)"
      ],
      "execution_count": 0,
      "outputs": []
    },
    {
      "cell_type": "code",
      "metadata": {
        "scrolled": true,
        "id": "q4W87nF11wl6",
        "colab_type": "code",
        "colab": {}
      },
      "source": [
        "###initialize ground truth models and methods to access them\n",
        "\n",
        "def load_oracle_models():\n",
        "    \"\"\"Loads the pretrained ground truth models for evaluating molecules' properties on-the-fly.\n",
        "    \n",
        "    Returns\n",
        "    -------\n",
        "    oracle : dict\n",
        "        A dictionary containing models mapped to their property keywords: \"bace\", \"esol\", \"logD\".\n",
        "    \"\"\"\n",
        "    bace_model = dc.models.GraphConvModel(n_tasks=1, mode='regression', batch_size=50, random_seed=0, model_dir=\"./models/bace\")\n",
        "    esol_model = dc.models.GraphConvModel(n_tasks=1, mode='regression', batch_size=50, random_seed=0, model_dir=\"./models/esol\")\n",
        "    logD_model = dc.models.GraphConvModel(n_tasks=1, mode='regression', batch_size=50, random_seed=0, model_dir=\"./models/logD\")\n",
        "    bace_model.restore()\n",
        "    esol_model.restore()\n",
        "    logD_model.restore()\n",
        "    oracle = {\"bace\":bace_model, \"esol\":esol_model, \"logD\":logD_model} #get each model via the named property\n",
        "    return oracle\n",
        "\n",
        "def query_oracle(dataset, oracle):\n",
        "    \"\"\"Evaluate molecules on-the-fly for their estimated bace, esol, and logD scores.\n",
        "    \n",
        "    Parameters\n",
        "    ----------\n",
        "    dataset : pandas.DataFrame\n",
        "        The input dataset; must includes a field with smiles strings under keyword \"SMILES\".\n",
        "    oracle : dictionary( dc.models.GraphConvModel )\n",
        "        The pretrained ground truth value prediction models.\n",
        "        \n",
        "    Returns\n",
        "    -------\n",
        "    results : pandas.DataFrame\n",
        "        Copy of input dataset with newly estimated bace, esol, and logD scores under those headers. \n",
        "    \"\"\"\n",
        "    query_file = \"./temp/oracle_eval.csv\"\n",
        "    dataset.to_csv(query_file)\n",
        "    \n",
        "    results = dataset.copy(deep=True) #defensive copy of input dataframe \n",
        "    \n",
        "    featurizer = dc.feat.ConvMolFeaturizer()\n",
        "    for prop in (\"bace\", \"esol\", \"logD\"):\n",
        "        #retrieve appropriate model from oracle\n",
        "        model = oracle[prop]\n",
        "        \n",
        "        #load, featurize, and normalize input dataset\n",
        "        loader = dc.data.CSVLoader(tasks=[prop], smiles_field=\"SMILES\",featurizer=featurizer)\n",
        "        dataset_feat = loader.featurize(query_file)\n",
        "        transformer = dc.trans.NormalizationTransformer(transform_y=True, dataset=dataset_feat)\n",
        "        dataset_feat = transformer.transform(dataset_feat)\n",
        "        \n",
        "        #predict and assign property results to keyword\n",
        "        predicted = model.predict(dataset_feat)\n",
        "        results[prop] = predicted\n",
        "        \n",
        "    return results"
      ],
      "execution_count": 0,
      "outputs": []
    },
    {
      "cell_type": "code",
      "metadata": {
        "id": "BpobjTVS1wl9",
        "colab_type": "code",
        "colab": {}
      },
      "source": [
        "###define Abstract Data Type to hold search information, including ensemble\n",
        "\n",
        "class Experimenter():\n",
        "    \"\"\"Class representing a research scientist/team going through the drug development process.\n",
        "    \n",
        "    Parameters\n",
        "    ----------\n",
        "    N : int\n",
        "        Number of samples to initially train the experimenter ensemble on.\n",
        "    M : int\n",
        "        Number of molecules to purchase in each batch.\n",
        "    ensemble_size : int, optional\n",
        "        Number of models in experimenter ensemble.\n",
        "    epochs : int, optional\n",
        "        Number of epochs to train ensemble models for at each stage.\n",
        "    molecule_cost : int or float, optional\n",
        "        Monetary cost of purchasing a single molecule.\n",
        "    target_bounds : dictionary of str:tuples(floats), optional\n",
        "        Desired range for each property.\n",
        "    sampling_mode : string {\"thompson\", \"highest mean\", \"random\"}\n",
        "        The means of choosing the ensemble outputs/molecules.\n",
        "    \n",
        "    Attributes\n",
        "    ----------\n",
        "    ensemble : dictionary of deepchem.models.GrachConvModel\n",
        "        Models representing the experimenter knowledge/predictions and uncertainty.\n",
        "    history : list of dictionaries storing model attributes\n",
        "        Snapshots of the model state at each time step.\n",
        "    samples_seen : pandas.DataFrame\n",
        "        Ground truth values of the molecules seen before. Includes initial training set.\n",
        "    smiles_seen : list of str\n",
        "        SMILES strings of the molecules seen before.\n",
        "    selected_prediction : pandas.DataFrame\n",
        "        The molecule values used to make the next decision.\n",
        "    all_predictions : dict<int,pandas.DataFrame>\n",
        "        Predicted values of entire ensemble at this time step. Ensemble model keys (random seeds) map to model's prediction.\n",
        "    cost : int or float\n",
        "        Total monetary cost incurred at the current time.\n",
        "    number_molecules : int\n",
        "        Total number of molecules purchased at the current time.\n",
        "    time : int\n",
        "        Total number of days spent up to the current time.\n",
        "        \n",
        "    \"\"\"\n",
        "    def __init__(self, N, M, ensemble_size=3, epochs=10, molecule_cost=200,\n",
        "                 target_bounds={\"bace\":(4, math.inf), \"esol\":(-5, math.inf), \"logD\":(-0.4, 5.6)}, sampling_method=\"highest mean\"):\n",
        "        self.N = N #initial samples\n",
        "        self.M = M #batch size\n",
        "        self.ensemble_size = ensemble_size\n",
        "        self.epochs = epochs\n",
        "        self.molecule_cost = molecule_cost\n",
        "        self.target_bounds = target_bounds\n",
        "        if sampling_method == \"thompson\" or sampling_method == \"highest mean\" or sampling_method == \"random\":\n",
        "            self.sampling_method = sampling_method\n",
        "        else:\n",
        "            raise ValueError(\"Input for sampling method was not allowed argument. Choices are thompson, highest mean, and random.\")\n",
        "        \n",
        "        self.ensemble = {i:dc.models.GraphConvModel(n_tasks=3, mode='regression', batch_size=20, random_seed=i, tensorboard=True) \n",
        "                         for i in range(self.ensemble_size)} #map each model to its seed\n",
        "        self.history = [] #save snapshot of model, on disk\n",
        "        self.samples_seen = None\n",
        "        self.smiles_seen = []\n",
        "        self.selected_prediction = pd.DataFrame()\n",
        "        self.all_predictions = {}\n",
        "        self.cost = 0\n",
        "        self.number_molecules = 0\n",
        "        self.time = 0 #days\n",
        "        \n",
        "        \n",
        "    def train_model(self, model, dataset):\n",
        "        \"\"\"Helper function to train a given ensemble model on a given dataset.\n",
        "        \n",
        "        Parameters\n",
        "        ----------\n",
        "        model : Keras model (generally deepchem.GraphConvModel)\n",
        "            Model to be trained.\n",
        "        dataset : pandas.DataFrame\n",
        "            Dataset to train on. Must include \"SMILES\", \"bace\", \"esol\", and \"logD\" headers.\n",
        "            \n",
        "        \"\"\"\n",
        "        #convert DataFrame to CSV and read in as deepchem.Dataset via deepchem.CSVLoader\n",
        "        \n",
        "        #dataset_temp_file = \"./temp/training_dataset.csv\"\n",
        "        dataset.to_csv(\"training_dataset.csv\")\n",
        "        \n",
        "        !cp training_dataset.csv drive/My\\ Drive/\n",
        "\n",
        "\n",
        "        featurizer = dc.feat.ConvMolFeaturizer()\n",
        "        loader = dc.data.CSVLoader(tasks=[\"bace\", \"esol\", \"logD\"], smiles_field=\"SMILES\", featurizer=featurizer)\n",
        "\n",
        "        #dataset_feat = loader.featurize(dataset_temp_file)\n",
        "        dataset_feat = loader.featurize(\"training_dataset.csv\")\n",
        "        \n",
        "        transformer = dc.trans.NormalizationTransformer(transform_y=True, dataset=dataset_feat)\n",
        "        dataset_feat = transformer.transform(dataset_feat)\n",
        "\n",
        "        model.fit(dataset_feat, nb_epoch=1, deterministic=True, restore=False)\n",
        "    \n",
        "    \n",
        "    def train_ensemble(self, dataset):\n",
        "        \"\"\"Helper function to train model ensemble.\n",
        "        \n",
        "        Parameters\n",
        "        ----------\n",
        "        dataset : pandas.Dataset\n",
        "            Dataset on which to train models. Must include \"SMILES\", \"bace\", \"esol\", and \"logD\" headers.\n",
        "        \n",
        "        \"\"\"\n",
        "        for model in self.ensemble.values():\n",
        "            self.train_model(model, dataset)\n",
        "\n",
        "    \n",
        "    def initial_training(self, verbose=False):\n",
        "        \"\"\"Train model ensemble for the first time on self.N samples randomly chosen from the 2500 lowest bace affinity-scored \n",
        "        molecules.\n",
        "        \n",
        "        Parameters\n",
        "        ----------\n",
        "        verbose : bool\n",
        "            Whether to print progress updates.\n",
        "        \n",
        "        Notes\n",
        "        -----\n",
        "        If self.N > 2500, ensemble will be trained on 2500 samples.\n",
        "        Records first history object.\n",
        "        \n",
        "        \"\"\"\n",
        "        idx_range = self.N if self.N < low_bace_dataset.shape[0] else low_bace_dataset.shape[0]\n",
        "        rand_indices = random.sample(range(low_bace_dataset.shape[0]), k=idx_range) #select random row indices\n",
        "        \n",
        "        init_ensemble_dataset = pd.DataFrame()\n",
        "        for idx in rand_indices:\n",
        "            init_ensemble_dataset = init_ensemble_dataset.append( low_bace_dataset.iloc[idx], ignore_index=True )\n",
        "        \n",
        "        if verbose:\n",
        "            print(\"Training set selected.\")\n",
        "            \n",
        "        self.samples_seen = init_ensemble_dataset ### collect the examples seen during initial training (ground truth values)\n",
        "        self.smiles_seen = init_ensemble_dataset[\"SMILES\"].tolist()\n",
        "        \n",
        "        #cost/time to initially train? free initial knowledge?\n",
        "        self.cost += self.molecule_cost * len(init_ensemble_dataset)\n",
        "        self.number_molecules += len(init_ensemble_dataset)\n",
        "        self.time = 0\n",
        "        \n",
        "\n",
        "        if self.sampling_method != \"random\":\n",
        "            if verbose:\n",
        "                print(\"Training ensemble...\")\n",
        "            self.train_ensemble(init_ensemble_dataset) #train ensemble on initial dataset, unless we are randomly sampling and do not need to        \n",
        "            if verbose:\n",
        "                print(\"Ensemble trained.\")\n",
        "                \n",
        "        self.record_history()\n",
        "\n",
        "                \n",
        "    def get_component_score(self, arr, keys):\n",
        "        \"\"\"Helper function to get the scaled \"goodness\" of the input scores.\n",
        "        \n",
        "        Parameters\n",
        "        ----------\n",
        "        array : numpy.array\n",
        "             Array with bace, esol, and logD scores.\n",
        "        keys : collection of strings from {\"bace\", \"esol\", \"logD\"}\n",
        "            Which scores to incorporate into the overall goodness.\n",
        "        \n",
        "        Returns\n",
        "        -------\n",
        "        numpy.array\n",
        "            Sum of component scores.\n",
        "        \n",
        "        \"\"\"\n",
        "        scores = []\n",
        "        if \"bace\" in keys:\n",
        "            #higher bace => higher score\n",
        "            bace = arr[:,0]\n",
        "            bace_range = self.target_bounds[\"bace\"]\n",
        "            scores.append( np.where(bace < bace_range[0], 0.2*bace-0.8, 0.05*bace-0.2) )\n",
        "            #dec penalty when score>low end of range\n",
        "        \n",
        "        if \"esol\" in keys:\n",
        "            esol = arr[:,1]\n",
        "            esol_range = self.target_bounds[\"esol\"]\n",
        "            scores.append( np.where(esol < esol_range[0], esol - np.absolute(esol-esol_range[1])**2, esol) )\n",
        "        \n",
        "        if \"logD\" in keys:\n",
        "            #logD within range is not penalized\n",
        "            logD = arr[:,2]\n",
        "            logD_range = self.target_bounds[\"logD\"]\n",
        "            #handle lower end of range\n",
        "            int_arr = np.where(logD < logD_range[0], logD - np.absolute(logD-logD_range[0]), logD)\n",
        "            #handle upper end of range\n",
        "            scores.append(np.where(int_arr > logD_range[1], int_arr - np.absolute(int_arr-logD_range[1]), int_arr) )\n",
        "\n",
        "        return sum(scores)\n",
        "        \n",
        "    \n",
        "    def score_and_select_top(self):\n",
        "        \"\"\"Scores all molecules and selects the top M for \"purchase\".\n",
        "        \n",
        "        \"\"\"\n",
        "        #featurizer = dc.feat.ConvMolFeaturizer()\n",
        "        #loader = dc.data.CSVLoader(tasks=[\"bace\", \"esol\", \"logD\"], smiles_field=\"SMILES\", featurizer=featurizer)\n",
        "        #dataset_feat = loader.featurize(dataset_file) #featurize the molecules from the ground truth dataset\n",
        "        #transformer = dc.trans.NormalizationTransformer(transform_y=True, dataset=dataset_feat)\n",
        "        #dataset_feat = transformer.transform(dataset_feat)\n",
        "        \n",
        "        if self.sampling_method == \"highest mean\":\n",
        "            #generate and store all predictions\n",
        "            predicted = np.zeros( (len(ground_truth_for_scoring),3) )\n",
        "            for key in self.ensemble.keys():\n",
        "                pred = self.ensemble[key].predict(ground_truth_for_scoring)\n",
        "                predicted += pred #sum model predictions\n",
        "                self.all_predictions[key] = self.prediction_array_to_dataframe(pred) #store each prediction as a labeled dataframe\n",
        "            predicted /= len(self.ensemble) #avg model predictions\n",
        "            results_df = self.prediction_array_to_dataframe(predicted)\n",
        "            \n",
        "        elif self.sampling_method == \"thompson\":\n",
        "            #generate and store all predictions\n",
        "            self.all_predictions = {key : self.prediction_array_to_dataframe( self.ensemble[key].predict(ground_truth_for_scoring) )\n",
        "                                    for key in self.ensemble.keys()} #store all labeled dataframes       \n",
        "            #Thompson sampling\n",
        "            results_df = pd.DataFrame()\n",
        "            rand_pred_idx_range = len(self.ensemble) - 1 #random.randint range is inclusive on both ends\n",
        "            \n",
        "            for row_idx in range( len(ground_truth_for_scoring) ):\n",
        "                pred_key = random.randint(0, rand_pred_idx_range) #select random prediction array to get row from\n",
        "                pred_df = self.all_predictions[pred_key]\n",
        "                pred_row = pred_df.iloc[[row_idx]]\n",
        "                results_df = pd.concat([results_df, pred_row], sort=False)         \n",
        "        \n",
        "        elif self.sampling_method == \"random\":\n",
        "            ###randomly select up to M points from those not seen\n",
        "            unseen = ground_truth_dataset.loc[~ground_truth_dataset['SMILES'].isin(self.smiles_seen)] #remove prev seen\n",
        "            unseen = unseen.iloc[np.random.permutation(len(unseen))] #shuffle remaining samples\n",
        "            unseen = unseen[:self.M] if (len(unseen) > self.M) else unseen #select up to self.M samples\n",
        "            \n",
        "            self.samples_seen = pd.concat([self.samples_seen,unseen], sort=False)\n",
        "            self.smiles_seen = self.samples_seen[\"SMILES\"].tolist()\n",
        "            self.cost += self.molecule_cost * len(unseen)\n",
        "            self.number_molecules += len(unseen)\n",
        "            self.time += 28 #4 weeks to buy and experiment             \n",
        "            return \n",
        "            \n",
        "        self.selected_prediction = results_df #also store the dataframe with the data we chose to make decisions with\n",
        "        \n",
        "        unseen_predicted_rows = results_df.loc[~results_df['SMILES'].isin(self.smiles_seen)] #also remove predicted values previously seen\n",
        "        unseen_predicted_rows = unseen_predicted_rows.sort_values(by=\"goodness\", ascending=False) #sort predictions with highest goodness at top\n",
        "        \n",
        "        predicted_subset = unseen_predicted_rows[:self.M] if (len(unseen_predicted_rows) > self.M) else unseen_predicted_rows #select up to self.M samples from the predictions\n",
        "        predicted_subset_smiles = predicted_subset[\"SMILES\"].tolist()\n",
        "        \n",
        "        new_batch_ground_truth = ground_truth_dataset.loc[ground_truth_dataset['SMILES'].isin(predicted_subset_smiles)]\n",
        "        \n",
        "        self.samples_seen = pd.concat([self.samples_seen,new_batch_ground_truth], sort=False)\n",
        "        self.smiles_seen = self.samples_seen[\"SMILES\"].tolist()\n",
        "        self.cost += self.molecule_cost * len(new_batch_ground_truth)\n",
        "        self.number_molecules += len(new_batch_ground_truth)\n",
        "        self.time += 28 #4 weeks to buy and experiment\n",
        "    \n",
        "    \n",
        "    def prediction_array_to_dataframe(self, array):\n",
        "        #copy SMILES and assign calculated scores, store in self.predictions\n",
        "        df = pd.DataFrame()\n",
        "        df[\"SMILES\"] = ground_truth_dataset[\"SMILES\"]   \n",
        "        goodness = self.get_component_score(array, [\"bace\", \"esol\", \"logD\"])\n",
        "        df[\"bace\"] = array[:,0]\n",
        "        df[\"esol\"] = array[:,1]\n",
        "        df[\"logD\"] = array[:,2]\n",
        "        df[\"goodness\"] = goodness\n",
        "        return df\n",
        "        \n",
        "    \n",
        "    def record_history(self):\n",
        "        \"\"\"Stores model costs and experience for later analysis.\n",
        "        \n",
        "        Notes\n",
        "        -----\n",
        "        Does not save self.history attribute, in order to avoid redundantly storing the data in it.\n",
        "        Only saves attributes that change in each time step.\n",
        "        \n",
        "        \"\"\"\n",
        "        hist = {}\n",
        "        hist[\"samples_seen\"] = self.samples_seen\n",
        "        hist[\"smiles_seen\"] = self.smiles_seen\n",
        "        hist[\"cost\"] = self.cost\n",
        "        hist[\"number_molecules\"] = self.number_molecules\n",
        "        hist[\"time\"] = self.time\n",
        "        hist[\"selected prediction\"] = self.selected_prediction\n",
        "        hist[\"all predictions\"] = self.all_predictions\n",
        "        self.history.append(hist)\n",
        "     \n",
        "\n",
        "    def run(self):\n",
        "        \"\"\"Simple wrapper to automate calls to select molecules and update models. \n",
        "        \n",
        "        Returns\n",
        "        -------\n",
        "        candidates : pandas.DataFrame\n",
        "            The candidate compounds that satisfy the given criteria.\n",
        "\n",
        "        Notes\n",
        "        -----\n",
        "        Must be preceded by initial training of model ensemble.\n",
        "        \n",
        "        \"\"\"        \n",
        "        while len(self.samples_seen) < len(ground_truth_dataset): #search entire database, with early stopping\n",
        "            candidates = self.samples_seen.loc[self.samples_seen['bace'] >= top_5_percent_bace_cutoff] #find mols w/ high bace\n",
        "            \n",
        "            esol_lower_bound = self.target_bounds[\"esol\"][0]\n",
        "            candidates = candidates.loc[candidates['esol'] >= esol_lower_bound] #filter the insoluble mols\n",
        "            \n",
        "            logD_range = self.target_bounds[\"logD\"]\n",
        "            candidates = candidates.loc[( candidates['logD'] >= logD_range[0] ) \n",
        "                                                 & ( candidates['logD'] <= logD_range[1] )] #filter for logD in range\n",
        "              \n",
        "            if len(candidates) > 0:\n",
        "                print(\"Molecule within bounds and 95th percentile bace affinity found.\")\n",
        "                return candidates\n",
        "                \n",
        "            self.score_and_select_top()\n",
        "            self.record_history()\n",
        "            if self.sampling_method != \"random\":\n",
        "                self.train_ensemble(self.samples_seen)"
      ],
      "execution_count": 0,
      "outputs": []
    },
    {
      "cell_type": "code",
      "metadata": {
        "id": "4pG_E7eT1wl_",
        "colab_type": "code",
        "colab": {}
      },
      "source": [
        "\"\"\"\n",
        "Step 1: load ground truth models and ensemble\n",
        "\n",
        "Step 2: train ensemble on N random data points (including ground truth values)\n",
        "\n",
        "Step 3: score all of the 10K molecules using the ensemble\n",
        "\n",
        "Step 4: take (\"buy\") the top M, and \"assess them experimentally\" (get their ground truth values)\n",
        "\n",
        "Step 5: add those samples to the training/seen set\n",
        "\n",
        "Step 6: retrain the ensemble\n",
        "\n",
        "Step 7: repeat (make 2-6 repeatable)\n",
        "\n",
        "Step 8: add some loops over N and M to generate plots of Hx vs N,M\n",
        "\"\"\""
      ],
      "execution_count": 0,
      "outputs": []
    },
    {
      "cell_type": "code",
      "metadata": {
        "id": "9EVz_6D1WkrN",
        "colab_type": "code",
        "colab": {}
      },
      "source": [
        "### ADD %%prun command to cell below to run and time with profiler"
      ],
      "execution_count": 0,
      "outputs": []
    },
    {
      "cell_type": "code",
      "metadata": {
        "id": "9YVdK0hJ1wmB",
        "colab_type": "code",
        "colab": {}
      },
      "source": [
        "%%prun\n",
        "#N = [96, 384, 1536] #initial train set size\n",
        "N = [96]\n",
        "#M = [96, 384, 1536] #batch size -> 96 wells, multiples\n",
        "M = [96]\n",
        "\n",
        "models = []\n",
        "\n",
        "for n in N:\n",
        "    for m in M:\n",
        "        e = Experimenter(n, m, ensemble_size=3, sampling_method='highest mean')\n",
        "        models.append(e)\n",
        "        e.initial_training()\n",
        "        top_mols = e.run()"
      ],
      "execution_count": 0,
      "outputs": []
    },
    {
      "cell_type": "code",
      "metadata": {
        "id": "ivo6bskXCdqR",
        "colab_type": "code",
        "colab": {}
      },
      "source": [
        "e.history[1][\"all predictions\"]"
      ],
      "execution_count": 0,
      "outputs": []
    },
    {
      "cell_type": "code",
      "metadata": {
        "id": "o_K7E9QqRMer",
        "colab_type": "code",
        "outputId": "10559bcb-5a87-4f2d-ce3d-c768c403cdb0",
        "colab": {
          "base_uri": "https://localhost:8080/",
          "height": 287
        }
      },
      "source": [
        "top_mols\n",
        "print(e.history[1][\"number_molecules\"])\n",
        "\n",
        "baces = np.array(e.history[1][\"samples_seen\"][\"bace\"])\n",
        "#plt.hist(baces, 50, facecolor='green')\n",
        "\n",
        "import seaborn as sns\n",
        "sns.kdeplot(baces,shade=True)\n",
        "plt.hist(baces, density=True)\n",
        "plt.show()\n",
        "\n",
        "#plt.xlabel('baces')\n",
        "#plt.ylabel('Number of compounds')\n",
        "#plt.title(r'Histogram of top mol bace scores')\n",
        "#plt.grid(True)\n",
        "#plt.show()"
      ],
      "execution_count": 8,
      "outputs": [
        {
          "output_type": "stream",
          "text": [
            "192\n"
          ],
          "name": "stdout"
        },
        {
          "output_type": "display_data",
          "data": {
            "image/png": "[encoded data removed]",
            "text/plain": [
              "<Figure size 432x288 with 1 Axes>"
            ]
          },
          "metadata": {
            "tags": []
          }
        }
      ]
    },
    {
      "cell_type": "code",
      "metadata": {
        "id": "ElzKdt-s1wmI",
        "colab_type": "code",
        "outputId": "f29ea5e7-d2fa-4587-a9b3-3a9bee5f443e",
        "colab": {
          "base_uri": "https://localhost:8080/",
          "height": 295
        }
      },
      "source": [
        "for model in models:\n",
        "    costs = []\n",
        "    times = []\n",
        "    top_gt_bace_scores = []\n",
        "    goodnesses = []\n",
        "    \n",
        "    for hx in model.history:\n",
        "        costs.append(hx[\"cost\"])\n",
        "        times.append(hx[\"time\"])\n",
        "        top_gt_bace_scores.append(hx[\"samples_seen\"][\"bace\"].max()) #max ground truth score seen\n",
        "        if hx[\"selected prediction\"].empty:\n",
        "            goodnesses.append(0)\n",
        "        else:\n",
        "            goodnesses.append( hx[\"selected prediction\"][\"goodness\"].max() ) #max predicted goodness so far\n",
        "\n",
        "plt.plot(times,top_gt_bace_scores,'bs',label=\"top ground truth bace seen\")\n",
        "plt.plot(times,goodnesses,'rs',label=\"top pred goodness\")\n",
        "\n",
        "plt.xlabel('Time')\n",
        "plt.title(r'Time vs top ground truth BACE score seen so far')\n",
        "plt.grid(True)\n",
        "plt.legend()\n",
        "plt.show()"
      ],
      "execution_count": 0,
      "outputs": [
        {
          "output_type": "display_data",
          "data": {
            "image/png": "[encoded data removed]",
            "text/plain": [
              "<Figure size 432x288 with 1 Axes>"
            ]
          },
          "metadata": {
            "tags": []
          }
        }
      ]
    },
    {
      "cell_type": "code",
      "metadata": {
        "id": "UFqfW8LDlqFP",
        "colab_type": "code",
        "outputId": "aea0b2d8-8b39-4739-dd45-cc30c050297d",
        "colab": {
          "base_uri": "https://localhost:8080/",
          "height": 330
        }
      },
      "source": [
        "gt_bace = ground_truth_dataset[\"bace\"].tolist()\n",
        "low_bace = low_bace_dataset[\"bace\"].tolist()\n",
        "\n",
        "x = [i for i in range(len(gt_bace))]\n",
        "print(min(gt_bace))\n",
        "print(gt_bace[-1])\n",
        "\n",
        "plt.clf()\n",
        "plt.xlim([0,10000])\n",
        "plt.ylim([2.5,5.6])\n",
        "\n",
        "plt.plot(x,gt_bace,'bs',label=\"ground truth bace\")\n",
        "plt.plot(x[:2500],low_bace,'gs',label=\"low bace set\")\n",
        "\n",
        "plt.xlabel('index')\n",
        "plt.title(r'bace of gt dataset')\n",
        "plt.grid(True)\n",
        "plt.legend()\n",
        "plt.show()"
      ],
      "execution_count": 0,
      "outputs": [
        {
          "output_type": "stream",
          "text": [
            "2.3942474999999996\n",
            "2.3942474999999996\n"
          ],
          "name": "stdout"
        },
        {
          "output_type": "display_data",
          "data": {
            "image/png": "[encoded data removed]",
            "text/plain": [
              "<Figure size 432x288 with 1 Axes>"
            ]
          },
          "metadata": {
            "tags": []
          }
        }
      ]
    },
    {
      "cell_type": "code",
      "metadata": {
        "id": "CvGri4ovDGoz",
        "colab_type": "code",
        "outputId": "e107089a-0250-4cb7-a855-8a2627883923",
        "colab": {
          "base_uri": "https://localhost:8080/",
          "height": 283
        }
      },
      "source": [
        "#take map of dfs\n",
        "pred_map = e.history[-1][\"all predictions\"] #get predictions from latest history\n",
        "#print(pred_map)\n",
        "\n",
        "#average their scores\n",
        "cat_df = pd.DataFrame()\n",
        "for pred in pred_map.values():\n",
        "    cat_df = pd.concat([cat_df, pred], sort=False)\n",
        "avgs = cat_df.groupby(\"SMILES\",as_index=False).mean()\n",
        "\n",
        "#have one set of mean data, one set of ground truth\n",
        "pred_bace = avgs.sort_values(by=\"SMILES\")[\"bace\"].tolist()\n",
        "act_bace = ground_truth_dataset.sort_values(by=\"SMILES\")[\"bace\"].tolist()\n",
        "\n",
        "#plot baces\n",
        "plt.scatter(pred_bace,act_bace)\n",
        "plt.xlabel(\"Predicted BACE pIC50\")\n",
        "plt.ylabel(\"Ground truth BACE pIC50\")\n",
        "plt.plot([-2,6], [-2,6], color='k')\n",
        "plt.show()"
      ],
      "execution_count": 67,
      "outputs": [
        {
          "output_type": "display_data",
          "data": {
            "image/png": "[encoded data removed]",
            "text/plain": [
              "<Figure size 432x288 with 1 Axes>"
            ]
          },
          "metadata": {
            "tags": []
          }
        }
      ]
    }
  ]
}