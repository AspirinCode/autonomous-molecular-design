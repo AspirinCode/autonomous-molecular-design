{
  "nbformat": 4,
  "nbformat_minor": 0,
  "metadata": {
    "colab": {
      "name": "SimpleADDScenarioColab.ipynb",
      "version": "0.3.2",
      "provenance": [],
      "collapsed_sections": []
    },
    "language_info": {
      "codemirror_mode": {
        "name": "ipython",
        "version": 3
      },
      "file_extension": ".py",
      "mimetype": "text/x-python",
      "name": "python",
      "nbconvert_exporter": "python",
      "pygments_lexer": "ipython3",
      "version": "3.6.8"
    },
    "kernelspec": {
      "name": "python3",
      "display_name": "Python 3"
    },
    "accelerator": "GPU"
  },
  "cells": [
    {
      "cell_type": "code",
      "metadata": {
        "id": "6X-nVUTt1wl0",
        "colab_type": "code",
        "colab": {}
      },
      "source": [
        "###initialize imports and dataset\n",
        "!wget -c https://repo.continuum.io/miniconda/Miniconda3-latest-Linux-x86_64.sh\n",
        "!chmod +x Miniconda3-latest-Linux-x86_64.sh\n",
        "!bash ./Miniconda3-latest-Linux-x86_64.sh -b -f -p /usr/local\n",
        "!conda install -q -y -c conda-forge rdkit\n",
        "!conda install pytorch torchvision cudatoolkit=9.0 -c pytorch -y\n",
        "!pip3 install pyro-ppl\n",
        "\n",
        "!conda install -y --prefix /usr/local -c conda-forge rdkit joblib simdna\n",
        "!git clone https://github.com/deepchem/deepchem.git      # Clone deepchem source code from GitHub\n",
        "!cd deepchem && python setup.py install\n",
        "!ls -la /usr/local/lib/python3.7/site-packages/deepchem\n",
        "\n",
        "import sys\n",
        "sys.path.append('/usr/local/lib/python3.7/site-packages/')\n",
        "\n",
        "import math\n",
        "import numpy as np\n",
        "import pandas as pd\n",
        "import deepchem as dc\n",
        "from deepchem.utils.save import load_from_disk\n",
        "from deepchem.data import data_loader\n",
        "import random\n",
        "random.seed(0)\n",
        "import pickle\n",
        "import matplotlib.pyplot as plt\n",
        "\n",
        "\"\"\"\n",
        "dataset_file = \"./enamineSubset10KGroundTruth.csv\"\n",
        "ground_truth_dataset = load_from_disk(dataset_file) #pandas Dataframe\n",
        "\n",
        "low_bace_dataset = ground_truth_dataset.sort_values(by=\"bace\")[:2500] #take 2.5K worst binder potential starters,shouldn't need copy\n",
        "\n",
        "top_5_percent_index = len(ground_truth_dataset) // 20\n",
        "top_5_percent_bace_cutoff = ground_truth_dataset.sort_values(by=\"bace\", ascending=True,)[\"bace\"][top_5_percent_index]\n",
        "\n",
        "print(\"Cutoff bace score for 95th percentile:\", top_5_percent_bace_cutoff)\n",
        "print(\"Columns of dataset: %s\" % str(ground_truth_dataset.columns.values))\n",
        "print(\"Number of examples in dataset: %s\" % str(ground_truth_dataset.shape[0]))\n",
        "\"\"\""
      ],
      "execution_count": 0,
      "outputs": []
    },
    {
      "cell_type": "code",
      "metadata": {
        "id": "9kAWBKOM4LH-",
        "colab_type": "code",
        "outputId": "b2feb5b1-a3b4-43dd-98b1-7eab766c89b2",
        "colab": {
          "resources": {
            "http://localhost:8080/nbextensions/google.colab/files.js": {
              "data": "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",
              "ok": true,
              "headers": [
                [
                  "content-type",
                  "application/javascript"
                ]
              ],
              "status": 200,
              "status_text": ""
            }
          },
          "base_uri": "https://localhost:8080/",
          "height": 40
        }
      },
      "source": [
        "from google.colab import files\n",
        "uploaded = files.upload()\n",
        "###shouldn't need to do this because the ground truth "
      ],
      "execution_count": 2,
      "outputs": [
        {
          "output_type": "display_data",
          "data": {
            "text/html": [
              "\n",
              "     <input type=\"file\" id=\"files-82fe873c-18cb-4faf-9732-247ff7f10b05\" name=\"files[]\" multiple disabled />\n",
              "     <output id=\"result-82fe873c-18cb-4faf-9732-247ff7f10b05\">\n",
              "      Upload widget is only available when the cell has been executed in the\n",
              "      current browser session. Please rerun this cell to enable.\n",
              "      </output>\n",
              "      <script src=\"/nbextensions/google.colab/files.js\"></script> "
            ],
            "text/plain": [
              "<IPython.core.display.HTML object>"
            ]
          },
          "metadata": {
            "tags": []
          }
        }
      ]
    },
    {
      "cell_type": "code",
      "metadata": {
        "id": "U10M3eG2uFGC",
        "colab_type": "code",
        "outputId": "829ed36a-aa75-4ace-ad95-e128f43355fc",
        "colab": {
          "base_uri": "https://localhost:8080/",
          "height": 122
        }
      },
      "source": [
        "from google.colab import drive\n",
        "drive.mount(\"drive\")"
      ],
      "execution_count": 3,
      "outputs": [
        {
          "output_type": "stream",
          "text": [
            "Go to this URL in a browser: https://accounts.google.com/o/oauth2/auth?client_id=947318989803-6bn6qk8qdgf4n4g3pfee6491hc0brc4i.apps.googleusercontent.com&redirect_uri=urn%3Aietf%3Awg%3Aoauth%3A2.0%3Aoob&scope=email%20https%3A%2F%2Fwww.googleapis.com%2Fauth%2Fdocs.test%20https%3A%2F%2Fwww.googleapis.com%2Fauth%2Fdrive%20https%3A%2F%2Fwww.googleapis.com%2Fauth%2Fdrive.photos.readonly%20https%3A%2F%2Fwww.googleapis.com%2Fauth%2Fpeopleapi.readonly&response_type=code\n",
            "\n",
            "Enter your authorization code:\n",
            "··········\n",
            "Mounted at drive\n"
          ],
          "name": "stdout"
        }
      ]
    },
    {
      "cell_type": "code",
      "metadata": {
        "id": "k4tgZh6x39li",
        "colab_type": "code",
        "outputId": "7c1ae87d-9c4d-43b5-a6db-32a4ee14b7b2",
        "colab": {
          "base_uri": "https://localhost:8080/",
          "height": 68
        }
      },
      "source": [
        "#dataset_file = \"./enamineSubset10KGroundTruth.csv\"\n",
        "#ground_truth_dataset = load_from_disk(dataset_file) #pandas Dataframe\n",
        "\n",
        "dataset_file = \"drive/My Drive/ADD19 Datasets/enamineSubset10KGroundTruth.csv\"\n",
        "\n",
        "import io\n",
        "#ground_truth_dataset = pd.read_csv(io.BytesIO(uploaded['drive/My\\ Drive/ADD19\\ Datasets/enamineSubset10KGroundTruth.csv']))\n",
        "ground_truth_dataset = pd.read_csv(dataset_file)\n",
        "\n",
        "low_bace_dataset = ground_truth_dataset.sort_values(by=\"bace\")[:2500] #take 2.5K worst binder potential starters,shouldn't need copy\n",
        "\n",
        "top_5_percent_index = len(ground_truth_dataset) // 20\n",
        "top_5_percent_bace_cutoff = ground_truth_dataset.sort_values(by=\"bace\", ascending=True,)[\"bace\"][top_5_percent_index]\n",
        "\n",
        "print(\"Cutoff bace score for 95th percentile:\", top_5_percent_bace_cutoff)\n",
        "print(\"Columns of dataset: %s\" % str(ground_truth_dataset.columns.values))\n",
        "print(\"Number of examples in dataset: %s\" % str(ground_truth_dataset.shape[0]))"
      ],
      "execution_count": 5,
      "outputs": [
        {
          "output_type": "stream",
          "text": [
            "Cutoff bace score for 95th percentile: 4.870083\n",
            "Columns of dataset: ['Index' 'SMILES' 'bace' 'esol' 'logD']\n",
            "Number of examples in dataset: 10000\n"
          ],
          "name": "stdout"
        }
      ]
    },
    {
      "cell_type": "code",
      "metadata": {
        "scrolled": true,
        "id": "q4W87nF11wl6",
        "colab_type": "code",
        "colab": {}
      },
      "source": [
        "###initialize ground truth models and methods to access them\n",
        "\n",
        "def load_oracle_models():\n",
        "    \"\"\"Loads the pretrained ground truth models for evaluating molecules' properties on-the-fly.\n",
        "    \n",
        "    Returns\n",
        "    -------\n",
        "    oracle : dict\n",
        "        A dictionary containing models mapped to their property keywords: \"bace\", \"esol\", \"logD\".\n",
        "    \"\"\"\n",
        "    bace_model = dc.models.GraphConvModel(n_tasks=1, mode='regression', batch_size=50, random_seed=0, model_dir=\"./models/bace\")\n",
        "    esol_model = dc.models.GraphConvModel(n_tasks=1, mode='regression', batch_size=50, random_seed=0, model_dir=\"./models/esol\")\n",
        "    logD_model = dc.models.GraphConvModel(n_tasks=1, mode='regression', batch_size=50, random_seed=0, model_dir=\"./models/logD\")\n",
        "    bace_model.restore()\n",
        "    esol_model.restore()\n",
        "    logD_model.restore()\n",
        "    oracle = {\"bace\":bace_model, \"esol\":esol_model, \"logD\":logD_model} #get each model via the named property\n",
        "    return oracle\n",
        "\n",
        "def query_oracle(dataset, oracle):\n",
        "    \"\"\"Evaluate molecules on-the-fly for their estimated bace, esol, and logD scores.\n",
        "    \n",
        "    Parameters\n",
        "    ----------\n",
        "    dataset : pandas.DataFrame\n",
        "        The input dataset; must includes a field with smiles strings under keyword \"SMILES\".\n",
        "    oracle : dictionary( dc.models.GraphConvModel )\n",
        "        The pretrained ground truth value prediction models.\n",
        "        \n",
        "    Returns\n",
        "    -------\n",
        "    results : pandas.DataFrame\n",
        "        Copy of input dataset with newly estimated bace, esol, and logD scores under those headers. \n",
        "    \"\"\"\n",
        "    query_file = \"./temp/oracle_eval.csv\"\n",
        "    dataset.to_csv(query_file)\n",
        "    \n",
        "    results = dataset.copy(deep=True) #defensive copy of input dataframe \n",
        "    \n",
        "    featurizer = dc.feat.ConvMolFeaturizer()\n",
        "    for prop in (\"bace\", \"esol\", \"logD\"):\n",
        "        #retrieve appropriate model from oracle\n",
        "        model = oracle[prop]\n",
        "        \n",
        "        #load, featurize, and normalize input dataset\n",
        "        loader = dc.data.CSVLoader(tasks=[prop], smiles_field=\"SMILES\",featurizer=featurizer)\n",
        "        dataset_feat = loader.featurize(query_file)\n",
        "        transformer = dc.trans.NormalizationTransformer(transform_y=True, dataset=dataset_feat)\n",
        "        dataset_feat = transformer.transform(dataset_feat)\n",
        "        \n",
        "        #predict and assign property results to keyword\n",
        "        predicted = model.predict(dataset_feat)\n",
        "        results[prop] = predicted\n",
        "        \n",
        "    return results"
      ],
      "execution_count": 0,
      "outputs": []
    },
    {
      "cell_type": "code",
      "metadata": {
        "id": "BpobjTVS1wl9",
        "colab_type": "code",
        "colab": {}
      },
      "source": [
        "###define Abstract Data Type to hold search information, including ensemble\n",
        "\n",
        "class Experimenter():\n",
        "    \"\"\"Class representing a research scientist/team going through the drug development process.\n",
        "    \n",
        "    Parameters\n",
        "    ----------\n",
        "    N : int\n",
        "        Number of samples to initially train the experimenter ensemble on.\n",
        "    M : int\n",
        "        Number of molecules to purchase in each batch.\n",
        "    ensemble_size : int, optional\n",
        "        Number of models in experimenter ensemble.\n",
        "    epochs : int, optional\n",
        "        Number of epochs to train ensemble models for at each stage.\n",
        "    molecule_cost : int or float, optional\n",
        "        Monetary cost of purchasing a single molecule.\n",
        "    target_bounds : dictionary of str:tuples(floats), optional\n",
        "        Desired range for each property.\n",
        "    sampling_mode : string {\"thompson\", \"highest mean\", \"random\"}\n",
        "        The means of choosing the ensemble outputs/molecules.\n",
        "    \n",
        "    Attributes\n",
        "    ----------\n",
        "    ensemble : dictionary of deepchem.models.GrachConvModel\n",
        "        Models representing the experimenter knowledge/predictions and uncertainty.\n",
        "    history : list of dictionaries storing model attributes\n",
        "        Snapshots of the model state at each time step.\n",
        "    samples_seen : pandas.DataFrame\n",
        "        Ground truth values of the molecules seen before. Includes initial training set.\n",
        "    smiles_seen : list of str\n",
        "        SMILES strings of the molecules seen before.\n",
        "    predictions : pandas.DataFrame\n",
        "        Predicted values of entire dataset at this time step.\n",
        "    cost : int or float\n",
        "        Total monetary cost incurred at the current time.\n",
        "    number_molecules : int\n",
        "        Total number of molecules purchased at the current time.\n",
        "    time : int\n",
        "        Total number of days spent up to the current time.\n",
        "        \n",
        "    \"\"\"\n",
        "    def __init__(self, N, M, ensemble_size=3, epochs=1, molecule_cost=200,\n",
        "                 target_bounds={\"bace\":(4, math.inf), \"esol\":(-5, math.inf), \"logD\":(-0.4, 5.6)}, sampling_method=\"highest mean\"):\n",
        "        self.N = N #initial samples\n",
        "        self.M = M #batch size\n",
        "        self.ensemble_size = ensemble_size\n",
        "        self.epochs = epochs\n",
        "        self.molecule_cost = molecule_cost\n",
        "        self.target_bounds = target_bounds\n",
        "        if sampling_method == \"thompson\" or sampling_method == \"highest mean\" or sampling_method == \"random\":\n",
        "            self.sampling_method = sampling_method\n",
        "        else:\n",
        "            raise ValueError(\"Input for sampling method was not allowed argument. Choices are thompson, highest mean, and random.\")\n",
        "        \n",
        "        self.ensemble = {i:dc.models.GraphConvModel(n_tasks=3, mode='regression', batch_size=20, random_seed=i) \n",
        "                         for i in range(self.ensemble_size)} #map each model to its seed\n",
        "        self.history = [] #save snapshot of model, on disk\n",
        "        self.samples_seen = None\n",
        "        self.predicted = None\n",
        "        self.smiles_seen = []\n",
        "        self.predictions = pd.DataFrame()\n",
        "        self.cost = 0\n",
        "        self.number_molecules = 0\n",
        "        self.time = 0 #days\n",
        "        \n",
        "        \n",
        "    def train_model(self, model, dataset):\n",
        "        \"\"\"Helper function to train a given ensemble model on a given dataset.\n",
        "        \n",
        "        Parameters\n",
        "        ----------\n",
        "        model : Keras model (generally deepchem.GraphConvModel)\n",
        "            Model to be trained.\n",
        "        dataset : pandas.DataFrame\n",
        "            Dataset to train on. Must include \"SMILES\", \"bace\", \"esol\", and \"logD\" headers.\n",
        "            \n",
        "        \"\"\"\n",
        "        #convert DataFrame to CSV and read in as deepchem.Dataset via deepchem.CSVLoader\n",
        "        \n",
        "        #dataset_temp_file = \"./temp/training_dataset.csv\"\n",
        "        dataset.to_csv(\"training_dataset.csv\")\n",
        "        \n",
        "        !cp training_dataset.csv drive/My\\ Drive/\n",
        "\n",
        "\n",
        "        featurizer = dc.feat.ConvMolFeaturizer()\n",
        "        loader = dc.data.CSVLoader(tasks=[\"bace\", \"esol\", \"logD\"], smiles_field=\"SMILES\", featurizer=featurizer)\n",
        "\n",
        "        #dataset_feat = loader.featurize(dataset_temp_file)\n",
        "        dataset_feat = loader.featurize(\"training_dataset.csv\")\n",
        "        \n",
        "        transformer = dc.trans.NormalizationTransformer(transform_y=True, dataset=dataset_feat)\n",
        "        dataset_feat = transformer.transform(dataset_feat)\n",
        "\n",
        "        model.fit(dataset_feat, nb_epoch=1, deterministic=True, restore=False)\n",
        "    \n",
        "    \n",
        "    def train_ensemble(self, dataset):\n",
        "        \"\"\"Helper function to train model ensemble.\n",
        "        \n",
        "        Parameters\n",
        "        ----------\n",
        "        dataset : pandas.Dataset\n",
        "            Dataset on which to train models. Must include \"SMILES\", \"bace\", \"esol\", and \"logD\" headers.\n",
        "        \n",
        "        \"\"\"\n",
        "        for model in self.ensemble.values():\n",
        "            self.train_model(model, dataset)\n",
        "\n",
        "    \n",
        "    def initial_training(self, verbose=False):\n",
        "        \"\"\"Train model ensemble for the first time on self.N samples randomly chosen from the 2500 lowest bace affinity-scored \n",
        "        molecules.\n",
        "        \n",
        "        Parameters\n",
        "        ----------\n",
        "        verbose : bool\n",
        "            Whether to print progress updates.\n",
        "        \n",
        "        Notes\n",
        "        -----\n",
        "        If self.N > 2500, ensemble will be trained on 2500 samples.\n",
        "        Records first history object.\n",
        "        \n",
        "        \"\"\"\n",
        "        idx_range = self.N if self.N < low_bace_dataset.shape[0] else low_bace_dataset.shape[0]\n",
        "        rand_indices = random.sample(range(low_bace_dataset.shape[0]), k=idx_range) #select random row indices\n",
        "        \n",
        "        init_ensemble_dataset = pd.DataFrame()\n",
        "        for idx in rand_indices:\n",
        "            init_ensemble_dataset = init_ensemble_dataset.append( low_bace_dataset.iloc[idx], ignore_index=True )\n",
        "        \n",
        "        if verbose:\n",
        "            print(\"Training set selected.\")\n",
        "            \n",
        "        self.samples_seen = init_ensemble_dataset ### collect the examples seen during initial training (ground truth values)\n",
        "        self.smiles_seen = init_ensemble_dataset[\"SMILES\"].tolist()\n",
        "        \n",
        "        #cost/time to initially train? free initial knowledge?\n",
        "        self.cost += self.molecule_cost * len(init_ensemble_dataset)\n",
        "        self.number_molecules += len(init_ensemble_dataset)\n",
        "        self.time = 0\n",
        "        \n",
        "\n",
        "        if self.sampling_method != \"random\":\n",
        "            if verbose:\n",
        "                print(\"Training ensemble...\")\n",
        "            self.train_ensemble(init_ensemble_dataset) #train ensemble on initial dataset, unless we are randomly sampling and do not need to        \n",
        "            if verbose:\n",
        "                print(\"Ensemble trained.\")\n",
        "                \n",
        "        self.record_history()\n",
        "\n",
        "                \n",
        "    def get_component_score(self, arr, keys):\n",
        "        \"\"\"Helper function to get the scaled \"goodness\" of the input scores.\n",
        "        \n",
        "        Parameters\n",
        "        ----------\n",
        "        array : numpy.array\n",
        "             Array with bace, esol, and logD scores.\n",
        "        keys : collection of strings from {\"bace\", \"esol\", \"logD\"}\n",
        "            Which scores to incorporate into the overall goodness.\n",
        "        \n",
        "        Returns\n",
        "        -------\n",
        "        numpy.array\n",
        "            Sum of component scores.\n",
        "        \n",
        "        \"\"\"\n",
        "        scores = []\n",
        "        if \"bace\" in keys:\n",
        "            #higher bace => higher score\n",
        "            bace = arr[:,0]\n",
        "            bace_range = self.target_bounds[\"bace\"]\n",
        "            scores.append( np.where(bace < bace_range[0], 0.2*bace-0.8, 0.05*bace-0.2) )\n",
        "            #dec penalty when score>low end of range\n",
        "        \n",
        "        if \"esol\" in keys:\n",
        "            esol = arr[:,1]\n",
        "            esol_range = self.target_bounds[\"esol\"]\n",
        "            scores.append( np.where(esol < esol_range[0], esol - np.absolute(esol-esol_range[1])**2, esol) )\n",
        "        \n",
        "        if \"logD\" in keys:\n",
        "            #logD within range is not penalized\n",
        "            logD = arr[:,2]\n",
        "            logD_range = self.target_bounds[\"logD\"]\n",
        "            #handle lower end of range\n",
        "            int_arr = np.where(logD < logD_range[0], logD - np.absolute(logD-logD_range[0]), logD)\n",
        "            #handle upper end of range\n",
        "            scores.append(np.where(int_arr > logD_range[1], int_arr - np.absolute(int_arr-logD_range[1]), int_arr) )\n",
        "\n",
        "        return sum(scores)\n",
        "        \n",
        "    \n",
        "    def score_and_select_top(self):\n",
        "        \"\"\"Scores all molecules and selects the top M for \"purchase\".\n",
        "        \n",
        "        \"\"\"\n",
        "        featurizer = dc.feat.ConvMolFeaturizer()\n",
        "        loader = dc.data.CSVLoader(tasks=[\"bace\", \"esol\", \"logD\"], smiles_field=\"SMILES\", featurizer=featurizer)\n",
        "        dataset_feat = loader.featurize(dataset_file) #featurize the molecules from the ground truth dataset\n",
        "        transformer = dc.trans.NormalizationTransformer(transform_y=True, dataset=dataset_feat)\n",
        "        dataset_feat = transformer.transform(dataset_feat)\n",
        "        \n",
        "        if self.sampling_method == \"highest mean\":\n",
        "            #take the average of model predictions\n",
        "            predicted = np.zeros( (len(dataset_feat),3) )\n",
        "            for model in self.ensemble.values():\n",
        "                predicted += model.predict(dataset_feat)\n",
        "            predicted /= len(self.ensemble) \n",
        "            \n",
        "        elif self.sampling_method == \"thompson\":\n",
        "            #implement Thompson sampling\n",
        "            pass\n",
        "        \n",
        "        elif self.sampling_method == \"random\":\n",
        "            ###randomly select up to M points from those not seen\n",
        "            unseen = ground_truth_dataset.loc[~ground_truth_dataset['SMILES'].isin(self.smiles_seen)] #remove prev seen\n",
        "            unseen = unseen.iloc[np.random.permutation(len(unseen))] #shuffle remaining samples\n",
        "            unseen = unseen[:self.M] if (len(unseen) > self.M) else unseen #select up to self.M samples\n",
        "            \n",
        "            self.samples_seen = pd.concat([self.samples_seen,unseen], sort=False)\n",
        "            self.smiles_seen = self.samples_seen[\"SMILES\"].tolist()\n",
        "            self.cost += self.molecule_cost * len(unseen)\n",
        "            self.number_molecules += len(unseen)\n",
        "            self.time += 28 #4 weeks to buy and experiment             \n",
        "            return \n",
        "            \n",
        "            \n",
        "        #copy SMILES and assign calculated scores, store in self.predictions\n",
        "        results_df = pd.DataFrame()\n",
        "        results_df[\"SMILES\"] = ground_truth_dataset[\"SMILES\"]   \n",
        "        goodness = self.get_component_score(predicted, [\"bace\", \"esol\", \"logD\"])\n",
        "        results_df[\"bace\"] = predicted[:,0]\n",
        "        results_df[\"esol\"] = predicted[:,1]\n",
        "        results_df[\"logD\"] = predicted[:,2]\n",
        "        results_df[\"goodness\"] = goodness\n",
        "        self.predictions = results_df\n",
        "        \n",
        "        unseen_predicted_rows = results_df.loc[~results_df['SMILES'].isin(self.smiles_seen)] #also remove predicted values previously seen\n",
        "        unseen_predicted_rows = unseen_predicted_rows.sort_values(by=\"goodness\", ascending=False) #sort predictions with highest goodness at top\n",
        "        \n",
        "        predicted_subset = unseen_predicted_rows[:self.M] if (len(unseen_predicted_rows) > self.M) else unseen_predicted_rows #select up to self.M samples from the predictions\n",
        "        predicted_subset_smiles = predicted_subset[\"SMILES\"].tolist()\n",
        "        \n",
        "        new_batch_ground_truth = ground_truth_dataset.loc[ground_truth_dataset['SMILES'].isin(predicted_subset_smiles)]\n",
        "        \n",
        "        self.samples_seen = pd.concat([self.samples_seen,new_batch_ground_truth], sort=False)\n",
        "        self.smiles_seen = self.samples_seen[\"SMILES\"].tolist()\n",
        "        self.cost += self.molecule_cost * len(new_batch_ground_truth)\n",
        "        self.number_molecules += len(new_batch_ground_truth)\n",
        "        self.time += 28 #4 weeks to buy and experiment\n",
        "        \n",
        "    \n",
        "    def record_history(self):\n",
        "        \"\"\"Stores model costs and experience for later analysis.\n",
        "        \n",
        "        Notes\n",
        "        -----\n",
        "        Does not save self.history attribute, in order to avoid redundantly storing the data in it.\n",
        "        Only saves attributes that change in each time step.\n",
        "        \n",
        "        \"\"\"\n",
        "        hist = {}\n",
        "        hist[\"samples_seen\"] = self.samples_seen\n",
        "        hist[\"smiles_seen\"] = self.smiles_seen\n",
        "        hist[\"cost\"] = self.cost\n",
        "        hist[\"number_molecules\"] = self.number_molecules\n",
        "        hist[\"time\"] = self.time\n",
        "        hist[\"predictions\"] = self.predictions\n",
        "        self.history.append(hist)\n",
        "     \n",
        "\n",
        "    def run(self):\n",
        "        \"\"\"Simple wrapper to automate calls to select molecules and update models. \n",
        "        \n",
        "        Notes\n",
        "        -----\n",
        "        Must be preceded by initial training of model ensemble.\n",
        "        \n",
        "        \"\"\"        \n",
        "        while len(self.samples_seen) < len(ground_truth_dataset): #replace with top bace score to exit -> 4.87(approx 95th %ile)\n",
        "            candidates = self.samples_seen.loc[self.samples_seen['bace'] >= top_5_percent_bace_cutoff] #find mols w/ high bace\n",
        "            \n",
        "            esol_lower_bound = self.target_bounds[\"esol\"][0]\n",
        "            candidates = candidates.loc[candidates['esol'] >= esol_lower_bound] #filter the insoluble mols\n",
        "            \n",
        "            logD_range = self.target_bounds[\"logD\"]\n",
        "            candidates = candidates.loc[( candidates['logD'] >= logD_range[0] ) \n",
        "                                                 & ( candidates['logD'] <= logD_range[1] )] #filter for logD in range\n",
        "              \n",
        "            if len(candidates) > 0:\n",
        "                print(\"Molecule within bounds and 95th percentile bace affinity found.\")\n",
        "                return candidates\n",
        "                \n",
        "            self.score_and_select_top()\n",
        "            self.record_history()\n",
        "            self.train_ensemble(self.samples_seen)"
      ],
      "execution_count": 0,
      "outputs": []
    },
    {
      "cell_type": "code",
      "metadata": {
        "id": "4pG_E7eT1wl_",
        "colab_type": "code",
        "colab": {}
      },
      "source": [
        "\"\"\"\n",
        "Step 1: load ground truth models and ensemble\n",
        "\n",
        "Step 2: train ensemble on N random data points (including ground truth values)\n",
        "\n",
        "Step 3: score all of the 10K molecules using the ensemble\n",
        "\n",
        "Step 4: take (\"buy\") the top M, and \"assess them experimentally\" (get their ground truth values)\n",
        "\n",
        "Step 5: add those samples to the training/seen set\n",
        "\n",
        "Step 6: retrain the ensemble\n",
        "\n",
        "Step 7: repeat (make 2-6 repeatable)\n",
        "\n",
        "Step 8: add some loops over N and M to generate plots of Hx vs N,M\n",
        "\"\"\""
      ],
      "execution_count": 0,
      "outputs": []
    },
    {
      "cell_type": "code",
      "metadata": {
        "id": "9EVz_6D1WkrN",
        "colab_type": "code",
        "colab": {}
      },
      "source": [
        "### ADD %%prun command to cell below to run and time with profiler"
      ],
      "execution_count": 0,
      "outputs": []
    },
    {
      "cell_type": "code",
      "metadata": {
        "id": "9YVdK0hJ1wmB",
        "colab_type": "code",
        "outputId": "9360ebce-31b4-4d96-b16e-129af45bf6d7",
        "colab": {
          "base_uri": "https://localhost:8080/",
          "height": 731
        }
      },
      "source": [
        "%%prun\n",
        "#N = [96, 384, 1536] #initial train set size\n",
        "N = [96]\n",
        "#M = [96, 384, 1536] #batch size -> 96 wells, multiples\n",
        "M = [96]\n",
        "\n",
        "models = []\n",
        "\n",
        "for n in N:\n",
        "    for m in M:\n",
        "        e = Experimenter(n, m, ensemble_size=1, sampling_method='random')\n",
        "        models.append(e)\n",
        "        e.initial_training()\n",
        "        top_mols = e.run()"
      ],
      "execution_count": 98,
      "outputs": [
        {
          "output_type": "stream",
          "text": [
            "Loading raw samples now.\n",
            "shard_size: 8192\n",
            "About to start loading CSV from drive/My Drive/ADD19 Datasets/enamineSubset10KGroundTruth.csv\n",
            "Loading shard 1 of size 8192.\n",
            "Featurizing sample 0\n",
            "Featurizing sample 1000\n",
            "Featurizing sample 2000\n",
            "Featurizing sample 3000\n",
            "Featurizing sample 4000\n",
            "Featurizing sample 5000\n",
            "Featurizing sample 6000\n",
            "Featurizing sample 7000\n",
            "Featurizing sample 8000\n",
            "TIMING: featurizing shard 0 took 24.620 s\n",
            "Loading shard 2 of size 8192.\n",
            "Featurizing sample 0\n",
            "Featurizing sample 1000\n",
            "TIMING: featurizing shard 1 took 4.625 s\n",
            "TIMING: dataset construction took 33.235 s\n",
            "Loading dataset from disk.\n",
            "TIMING: dataset construction took 5.177 s\n",
            "Loading dataset from disk.\n",
            "Loading raw samples now.\n",
            "shard_size: 8192\n",
            "About to start loading CSV from training_dataset.csv\n",
            "Loading shard 1 of size 8192.\n",
            "Featurizing sample 0\n",
            "TIMING: featurizing shard 0 took 0.540 s\n",
            "TIMING: dataset construction took 0.626 s\n",
            "Loading dataset from disk.\n",
            "TIMING: dataset construction took 0.084 s\n",
            "Loading dataset from disk.\n"
          ],
          "name": "stdout"
        },
        {
          "output_type": "stream",
          "text": [
            "/usr/local/lib/python3.6/dist-packages/tensorflow/python/ops/gradients_util.py:93: UserWarning: Converting sparse IndexedSlices to a dense Tensor of unknown shape. This may consume a large amount of memory.\n",
            "  \"Converting sparse IndexedSlices to a dense Tensor of unknown shape. \"\n",
            "/usr/local/lib/python3.6/dist-packages/tensorflow/python/ops/gradients_util.py:93: UserWarning: Converting sparse IndexedSlices to a dense Tensor of unknown shape. This may consume a large amount of memory.\n",
            "  \"Converting sparse IndexedSlices to a dense Tensor of unknown shape. \"\n",
            "/usr/local/lib/python3.6/dist-packages/tensorflow/python/ops/gradients_util.py:93: UserWarning: Converting sparse IndexedSlices to a dense Tensor of unknown shape. This may consume a large amount of memory.\n",
            "  \"Converting sparse IndexedSlices to a dense Tensor of unknown shape. \"\n"
          ],
          "name": "stderr"
        },
        {
          "output_type": "stream",
          "text": [
            "Ending global_step 10: Average loss 0.819145\n",
            "TIMING: model fitting took 26.598 s\n",
            "Molecule within bounds and 95th percentile bace affinity found.\n",
            " "
          ],
          "name": "stdout"
        }
      ]
    },
    {
      "cell_type": "code",
      "metadata": {
        "id": "o_K7E9QqRMer",
        "colab_type": "code",
        "colab": {
          "base_uri": "https://localhost:8080/",
          "height": 312
        },
        "outputId": "8187a67d-3035-450b-b465-b286766e79d7"
      },
      "source": [
        "top_mols\n",
        "print(e.history[1][\"number_molecules\"])\n",
        "\n",
        "baces = np.array(e.history[1][\"samples_seen\"][\"bace\"])\n",
        "n, bins, patches = plt.hist(baces, 50, facecolor='green')\n",
        "\n",
        "plt.xlabel('baces')\n",
        "plt.ylabel('Number of compounds')\n",
        "plt.title(r'Histogram of top mol bace scores')\n",
        "plt.grid(True)\n",
        "plt.show()"
      ],
      "execution_count": 99,
      "outputs": [
        {
          "output_type": "stream",
          "text": [
            "192\n"
          ],
          "name": "stdout"
        },
        {
          "output_type": "display_data",
          "data": {
            "image/png": "[encoded data removed]",
            "text/plain": [
              "<Figure size 432x288 with 1 Axes>"
            ]
          },
          "metadata": {
            "tags": []
          }
        }
      ]
    },
    {
      "cell_type": "code",
      "metadata": {
        "id": "ElzKdt-s1wmI",
        "colab_type": "code",
        "outputId": "9bbd94fb-d421-4e19-81ba-a535a5f88200",
        "colab": {
          "base_uri": "https://localhost:8080/",
          "height": 295
        }
      },
      "source": [
        "for model in models:\n",
        "    costs = []\n",
        "    times = []\n",
        "    top_gt_bace_scores = []\n",
        "    goodnesses = []\n",
        "    \n",
        "    for hx in model.history:\n",
        "        costs.append(hx[\"cost\"])\n",
        "        times.append(hx[\"time\"])\n",
        "        top_gt_bace_scores.append(hx[\"samples_seen\"][\"bace\"].max()) #max ground truth score seen\n",
        "        if hx[\"predictions\"].empty:\n",
        "            goodnesses.append(0)\n",
        "        else:\n",
        "            goodnesses.append( hx[\"predictions\"][\"goodness\"].max() ) #max predicted goodness so far\n",
        "\n",
        "plt.plot(times,top_gt_bace_scores,'bs',label=\"top ground truth bace seen\")\n",
        "plt.plot(times,goodnesses,'rs',label=\"top pred goodness\")\n",
        "\n",
        "plt.xlabel('Time')\n",
        "plt.title(r'Time vs top ground truth BACE score seen so far')\n",
        "plt.grid(True)\n",
        "plt.legend()\n",
        "plt.show()\n"
      ],
      "execution_count": 68,
      "outputs": [
        {
          "output_type": "display_data",
          "data": {
            "image/png": "[encoded data removed]",
            "text/plain": [
              "<Figure size 432x288 with 1 Axes>"
            ]
          },
          "metadata": {
            "tags": []
          }
        }
      ]
    },
    {
      "cell_type": "code",
      "metadata": {
        "id": "UFqfW8LDlqFP",
        "colab_type": "code",
        "outputId": "0444bcd3-bc80-4e3d-f1b6-ec973ef6956a",
        "colab": {
          "base_uri": "https://localhost:8080/",
          "height": 330
        }
      },
      "source": [
        "gt_bace = ground_truth_dataset[\"bace\"].tolist()\n",
        "low_bace = low_bace_dataset[\"bace\"].tolist()\n",
        "\n",
        "x = [i for i in range(len(gt_bace))]\n",
        "print(min(gt_bace))\n",
        "print(gt_bace[-1])\n",
        "\n",
        "plt.clf()\n",
        "plt.xlim([0,10000])\n",
        "plt.ylim([2.5,5.6])\n",
        "\n",
        "plt.plot(x,gt_bace,'bs',label=\"ground truth bace\")\n",
        "plt.plot(x[:2500],low_bace,'gs',label=\"low bace set\")\n",
        "\n",
        "plt.xlabel('index')\n",
        "plt.title(r'bace of gt dataset')\n",
        "plt.grid(True)\n",
        "plt.legend()\n",
        "plt.show()"
      ],
      "execution_count": 0,
      "outputs": [
        {
          "output_type": "stream",
          "text": [
            "2.3942474999999996\n",
            "2.3942474999999996\n"
          ],
          "name": "stdout"
        },
        {
          "output_type": "display_data",
          "data": {
            "image/png": "[encoded data removed]",
            "text/plain": [
              "<Figure size 432x288 with 1 Axes>"
            ]
          },
          "metadata": {
            "tags": []
          }
        }
      ]
    }
  ]
}